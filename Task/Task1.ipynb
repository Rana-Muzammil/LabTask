{
 "cells": [
  {
   "cell_type": "code",
   "execution_count": 2,
   "id": "315699a7",
   "metadata": {},
   "outputs": [
    {
     "name": "stdout",
     "output_type": "stream",
     "text": [
      "Enter amount of a purchase.200\n",
      "The amount of the purchase : 200\n",
      "The state sales tax : 10\n",
      "The total sales tax : 15\n",
      "total : 215\n"
     ]
    }
   ],
   "source": [
    "amountOfPurchase = int(input(\"Enter amount of a purchase.\"))\n",
    "stateSaleTax =  int((amountOfPurchase*5)/100)\n",
    "countySaleTax = int((amountOfPurchase*2.5)/100)\n",
    "totalSaleTax = stateSaleTax+countySaleTax\n",
    "total = amountOfPurchase+totalSaleTax\n",
    "print(\"The amount of the purchase :\",amountOfPurchase)\n",
    "print(\"The state sales tax :\",stateSaleTax)\n",
    "print(\"The total sales tax :\",totalSaleTax)\n",
    "print(\"total :\",total)"
   ]
  },
  {
   "cell_type": "code",
   "execution_count": null,
   "id": "963b060a",
   "metadata": {},
   "outputs": [],
   "source": []
  }
 ],
 "metadata": {
  "kernelspec": {
   "display_name": "Python 3",
   "language": "python",
   "name": "python3"
  },
  "language_info": {
   "codemirror_mode": {
    "name": "ipython",
    "version": 3
   },
   "file_extension": ".py",
   "mimetype": "text/x-python",
   "name": "python",
   "nbconvert_exporter": "python",
   "pygments_lexer": "ipython3",
   "version": "3.8.8"
  }
 },
 "nbformat": 4,
 "nbformat_minor": 5
}
