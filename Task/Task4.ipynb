{
 "cells": [
  {
   "cell_type": "code",
   "execution_count": 5,
   "id": "e2b28fb9",
   "metadata": {},
   "outputs": [
    {
     "name": "stdout",
     "output_type": "stream",
     "text": [
      "Enter Number of male :20\n",
      "Enter Number of female :12\n",
      "Total Students in class : 32\n",
      "percentag of Male : 62.5\n",
      "percentage of Female : 37.5\n"
     ]
    }
   ],
   "source": [
    "male = int(input(\"Enter Number of male :\"))\n",
    "female = int(input(\"Enter Number of female :\"))\n",
    "total = int(male+female)\n",
    "percentageMale = male/total*100\n",
    "percentageFemale = female/total*100\n",
    "print(\"Total Students in class :\",total)\n",
    "print(\"percentag of Male :\",percentageMale)\n",
    "print(\"percentage of Female :\",percentageFemale)"
   ]
  },
  {
   "cell_type": "code",
   "execution_count": null,
   "id": "82665946",
   "metadata": {},
   "outputs": [],
   "source": []
  }
 ],
 "metadata": {
  "kernelspec": {
   "display_name": "Python 3",
   "language": "python",
   "name": "python3"
  },
  "language_info": {
   "codemirror_mode": {
    "name": "ipython",
    "version": 3
   },
   "file_extension": ".py",
   "mimetype": "text/x-python",
   "name": "python",
   "nbconvert_exporter": "python",
   "pygments_lexer": "ipython3",
   "version": "3.8.8"
  }
 },
 "nbformat": 4,
 "nbformat_minor": 5
}
