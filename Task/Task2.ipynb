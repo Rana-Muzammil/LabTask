{
 "cells": [
  {
   "cell_type": "code",
   "execution_count": 3,
   "id": "dc6bfa67",
   "metadata": {},
   "outputs": [
    {
     "name": "stdout",
     "output_type": "stream",
     "text": [
      "Enter Charges for Food :200\n",
      "Tip : 36.0\n",
      "saleTax : 200.07\n",
      "Total : 236.07\n"
     ]
    }
   ],
   "source": [
    "charges = int(input(\"Enter Charges for Food :\"))\n",
    "tip = charges*18*0.01\n",
    "saleTax = charges+7*0.01\n",
    "total = tip+saleTax\n",
    "print(\"Tip :\",tip)\n",
    "print(\"saleTax :\",saleTax)\n",
    "print(\"Total :\",total)"
   ]
  },
  {
   "cell_type": "code",
   "execution_count": null,
   "id": "60a6de33",
   "metadata": {},
   "outputs": [],
   "source": []
  }
 ],
 "metadata": {
  "kernelspec": {
   "display_name": "Python 3",
   "language": "python",
   "name": "python3"
  },
  "language_info": {
   "codemirror_mode": {
    "name": "ipython",
    "version": 3
   },
   "file_extension": ".py",
   "mimetype": "text/x-python",
   "name": "python",
   "nbconvert_exporter": "python",
   "pygments_lexer": "ipython3",
   "version": "3.8.8"
  }
 },
 "nbformat": 4,
 "nbformat_minor": 5
}
