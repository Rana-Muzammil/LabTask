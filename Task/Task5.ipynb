{
 "cells": [
  {
   "cell_type": "code",
   "execution_count": 8,
   "id": "0e1c6f25",
   "metadata": {},
   "outputs": [
    {
     "name": "stdout",
     "output_type": "stream",
     "text": [
      "Shares:  2000\n",
      "Commsiion:  2400.0\n",
      "Commsion after sold shares:  2565.0\n",
      "Total amount he paid foe the shares:  82400.0\n",
      "Amount after he sold shares:  88065.0\n"
     ]
    }
   ],
   "source": [
    "shares=2000\n",
    "shares_price=40\n",
    "commision=shares*shares_price*0.03\n",
    "sold=42.75\n",
    "paid_commission=shares*sold*0.03\n",
    "print(\"Shares: \",shares)\n",
    "print(\"Commsiion: \",commision)\n",
    "print(\"Commsion after sold shares: \",paid_commission)\n",
    "print(\"Total amount he paid for the shares: \",commision+(shares*shares_price))\n",
    "print(\"Amount after he sold shares: \",paid_commission+(shares*sold))\n"
   ]
  },
  {
   "cell_type": "code",
   "execution_count": null,
   "id": "a330e352",
   "metadata": {},
   "outputs": [],
   "source": []
  }
 ],
 "metadata": {
  "kernelspec": {
   "display_name": "Python 3",
   "language": "python",
   "name": "python3"
  },
  "language_info": {
   "codemirror_mode": {
    "name": "ipython",
    "version": 3
   },
   "file_extension": ".py",
   "mimetype": "text/x-python",
   "name": "python",
   "nbconvert_exporter": "python",
   "pygments_lexer": "ipython3",
   "version": "3.8.8"
  }
 },
 "nbformat": 4,
 "nbformat_minor": 5
}
