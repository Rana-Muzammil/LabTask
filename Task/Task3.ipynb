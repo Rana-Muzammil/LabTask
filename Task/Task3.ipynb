{
 "cells": [
  {
   "cell_type": "code",
   "execution_count": 4,
   "id": "edadc33c",
   "metadata": {},
   "outputs": [
    {
     "name": "stdout",
     "output_type": "stream",
     "text": [
      "Enter the number of cookies :48\n",
      "Sugar  1.5\n",
      "Butter   1.0\n",
      "flour  2.75\n"
     ]
    }
   ],
   "source": [
    "num = float(input(\"Enter the number of cookies :\"))\n",
    "sugar = float(num*1.5/48)\n",
    "butter = float(num*1/48)\n",
    "flour = float(num*2.75/48)\n",
    "print(\"Sugar \", sugar)\n",
    "print(\"Butter  \",butter)\n",
    "print(\"flour \",flour)\n"
   ]
  },
  {
   "cell_type": "code",
   "execution_count": null,
   "id": "e6373542",
   "metadata": {},
   "outputs": [],
   "source": []
  }
 ],
 "metadata": {
  "kernelspec": {
   "display_name": "Python 3",
   "language": "python",
   "name": "python3"
  },
  "language_info": {
   "codemirror_mode": {
    "name": "ipython",
    "version": 3
   },
   "file_extension": ".py",
   "mimetype": "text/x-python",
   "name": "python",
   "nbconvert_exporter": "python",
   "pygments_lexer": "ipython3",
   "version": "3.8.8"
  }
 },
 "nbformat": 4,
 "nbformat_minor": 5
}
